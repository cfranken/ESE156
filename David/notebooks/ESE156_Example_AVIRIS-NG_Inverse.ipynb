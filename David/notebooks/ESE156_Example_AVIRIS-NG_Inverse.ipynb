{
 "cells": [
  {
   "cell_type": "markdown",
   "metadata": {},
   "source": [
    "# Example:  Optimal Estimation for Atmospheric Correction (Inverse)\n",
    "\n",
    "Part of ESE 156 Remote Sensing Class<br>\n",
    "Taught by Prof. Christian Frankenberg<br>\n",
    "Guest Lecture by David R. Thompson, Jet Propulsion Laboratory, California Institute of Technology<br>\n",
    "Contact: david.r.thompson@jpl.nasa.gov\n",
    "__________\n",
    "\n",
    "Import dependencies.  You'll want to replace the filepaths below with your own installation of ISOFIT."
   ]
  },
  {
   "cell_type": "code",
   "execution_count": 18,
   "metadata": {},
   "outputs": [],
   "source": [
    "import sys\n",
    "import scipy as s\n",
    "sys.path.insert(0,'/Users/drt/src/isofit-ese156/isofit')\n",
    "import isofit\n",
    "from RSE_style import *\n",
    "\n",
    "from forward import ForwardModel\n",
    "from geometry import Geometry\n",
    "from inverse import Inversion\n",
    "from common import spectrumResample"
   ]
  },
  {
   "cell_type": "markdown",
   "metadata": {},
   "source": [
    "Define all model components.  Our remote observation is the spatial average of a rectangular region comprising 294 spectra, so we include this information in our instrument configuration."
   ]
  },
  {
   "cell_type": "code",
   "execution_count": 67,
   "metadata": {},
   "outputs": [],
   "source": [
    "\n",
    "instrument_config = {\"wavelength_file\": \"../data/wavelengths.txt\",\n",
    "                     \"integrations\": 294,\n",
    "                     \"noise_file\": \"../data/avirisng_noise.txt\",\n",
    "                     \"unknowns\": {\"cal_uncertainty_systematic_file\": \"../data/avirisng_systematic_error.txt\",\n",
    "                                  \"cal_uncertainty_flatfield\": 0.0}}\n",
    "\n",
    "rtm_config = {\"lut_path\":\"../data/lut/\",\n",
    "              \"modtran_template_file\":\"../data/modtran.json\",\n",
    "              \"domain\": {\"start\": 350, \"end\": 2520, \"step\": 0.1},\n",
    "              \"statevector\": {\n",
    "                 \"H2OSTR\": {\"bounds\": [1.5, 2.0], \"scale\": 0.01, \"init\": 1.75},\n",
    "                 \"AOT550\": {\"bounds\": [0.01, 0.1], \"scale\": 0.01, \"init\": 0.05}},\n",
    "              \"lut_grid\": {\"H2OSTR\": [1.5, 2.0], \"AOT550\": [0.01, 0.1]},\n",
    "              \"unknowns\": {\"H2O_ABSCO\": 0.01},\n",
    "              \"auto_rebuild\":False}\n",
    "\n",
    "surface_config = {\"surface_file\": \"../data/surface.mat\"}\n",
    "geom = Geometry()\n",
    "\n",
    "fm = ForwardModel({\"instrument\":instrument_config,\n",
    "                   \"multicomponent_surface\":surface_config,\n",
    "                   \"modtran_radiative_transfer\": rtm_config})\n"
   ]
  },
  {
   "cell_type": "markdown",
   "metadata": {},
   "source": [
    "We will define a new object - an \"Inversion\" that finds a Maximum A Posteriori solution for the state vector, given our radiance and priors. "
   ]
  },
  {
   "cell_type": "code",
   "execution_count": 68,
   "metadata": {},
   "outputs": [],
   "source": [
    "from inverse import Inversion\n",
    "\n",
    "inverse_config = {\"windows\":[[380.0,1300.0],[1450,1780.0],[1950.0,2450.0]]}\n",
    "iv = Inversion(inverse_config, fm)"
   ]
  },
  {
   "cell_type": "markdown",
   "metadata": {},
   "source": [
    "Load our Beckman Lawn reflectance, and try the inversion."
   ]
  },
  {
   "cell_type": "code",
   "execution_count": 69,
   "metadata": {},
   "outputs": [
    {
     "name": "stdout",
     "output_type": "stream",
     "text": [
      "Iteration: 1  Time: 0.104060  Residual: 28848.696051  Mean DOF: 0.569 \n",
      " Component: 7 Atmosphere: 1.896 0.050\n",
      "Iteration: 2  Time: 0.300433  Residual: 20288.213097  Mean DOF: 0.568 \n",
      " Component: 7 Atmosphere: 1.952 0.036\n",
      "Iteration: 3  Time: 0.189687  Residual: 7944.032549  Mean DOF: 0.569 \n",
      " Component: 7 Atmosphere: 2.000 0.035\n",
      "Iteration: 4  Time: 0.179129  Residual: 3041.425454  Mean DOF: 0.570 \n",
      " Component: 7 Atmosphere: 2.000 0.035\n",
      "Iteration: 5  Time: 0.182651  Residual: 1003.001778  Mean DOF: 0.571 \n",
      " Component: 7 Atmosphere: 2.000 0.034\n",
      "Iteration: 6  Time: 0.208121  Residual: 684.959138  Mean DOF: 0.570 \n",
      " Component: 7 Atmosphere: 2.000 0.011\n",
      "Iteration: 7  Time: 0.180011  Residual: 559.461982  Mean DOF: 0.569 \n",
      " Component: 7 Atmosphere: 2.000 0.011\n",
      "Iteration: 8  Time: 0.196591  Residual: 534.501637  Mean DOF: 0.569 \n",
      " Component: 7 Atmosphere: 1.977 0.010\n",
      "Iteration: 9  Time: 0.187002  Residual: 502.952416  Mean DOF: 0.570 \n",
      " Component: 7 Atmosphere: 1.977 0.010\n",
      "Iteration: 10  Time: 0.193169  Residual: 495.815440  Mean DOF: 0.570 \n",
      " Component: 7 Atmosphere: 1.978 0.010\n",
      "Iteration: 11  Time: 0.169493  Residual: 494.337987  Mean DOF: 0.570 \n",
      " Component: 7 Atmosphere: 1.979 0.010\n",
      "Iteration: 12  Time: 0.173416  Residual: 494.082542  Mean DOF: 0.570 \n",
      " Component: 7 Atmosphere: 1.980 0.010\n",
      "Iteration: 13  Time: 0.184667  Residual: 494.049845  Mean DOF: 0.570 \n",
      " Component: 7 Atmosphere: 1.980 0.010\n"
     ]
    }
   ],
   "source": [
    "wavelengths, radiance = s.loadtxt('../data/beckmanlawn_radiance.txt').T\n",
    "state_est = iv.invert(radiance, geom)"
   ]
  },
  {
   "cell_type": "markdown",
   "metadata": {},
   "source": [
    "The inversion object contains a convenient function to interpret the resulting state vector. it gives us the estimated reflectance, best-fitting radiance, path radiance, posterior predictive covariance S_hat, Jacobian matrix K and gain Matrix G.  Recall that the Rodgers (2000) averaging matrix is given by G*K."
   ]
  },
  {
   "cell_type": "code",
   "execution_count": 70,
   "metadata": {},
   "outputs": [],
   "source": [
    "rfl_est, rdn_est, path_est, S_hat, K, G = iv.forward_uncertainty(state_est, radiance, geom)\n",
    "A = s.matmul(G,K)"
   ]
  },
  {
   "cell_type": "markdown",
   "metadata": {},
   "source": [
    "Let's compare our estimate against the measurment we obtained on site.  We need to resample it to the AVIRIS-NG wavelengths."
   ]
  },
  {
   "cell_type": "code",
   "execution_count": 71,
   "metadata": {},
   "outputs": [
    {
     "data": {
      "text/plain": [
       "<matplotlib.legend.Legend at 0x1c1c5e78d0>"
      ]
     },
     "execution_count": 71,
     "metadata": {},
     "output_type": "execute_result"
    },
    {
     "data": {
      "image/png": "[encoded data removed]",
      "text/plain": [
       "<Figure size 432x288 with 1 Axes>"
      ]
     },
     "metadata": {},
     "output_type": "display_data"
    }
   ],
   "source": [
    "wl_insitu, rfl_insitu, fwhm = s.loadtxt('../data/beckmanlawn_reflectance.txt').T\n",
    "\n",
    "wavelengths = fm.wl\n",
    "rfl_insitu = spectrumResample(rfl_insitu, wl_insitu, fm.instrument.wl, fm.instrument.fwhm)\n",
    "plt.plot(wavelengths,rfl_insitu)\n",
    "plt.plot(wavelengths,rfl_est)\n",
    "plt.xlabel('Wavelength (nm)')\n",
    "plt.ylabel('Surface reflectance')\n",
    "plt.title('Beckman Lawn')\n",
    "plt.legend(['In situ measurement','Remote retrieval'])"
   ]
  },
  {
   "cell_type": "markdown",
   "metadata": {},
   "source": [
    "Note that there is a term we have set to zero in our instrument model - the \"cal_uncertainty_flatfield\" which is uncorrelated uncertainty due to flat fielding errors.  \n",
    "\n",
    "<b>Question:</b> Can we improve the match between the remote and in-situ reflectances by incorporating this source of uncertianty in our retrieval? What is its optimal value? How does it affect sensitivity to atmospheric parameters?"
   ]
  }
 ],
 "metadata": {
  "anaconda-cloud": {},
  "kernelspec": {
   "display_name": "Python 3",
   "language": "python",
   "name": "python3"
  },
  "language_info": {
   "codemirror_mode": {
    "name": "ipython",
    "version": 3
   },
   "file_extension": ".py",
   "mimetype": "text/x-python",
   "name": "python",
   "nbconvert_exporter": "python",
   "pygments_lexer": "ipython3",
   "version": "3.6.5"
  },
  "latex_envs": {
   "LaTeX_envs_menu_present": true,
   "autoclose": false,
   "autocomplete": true,
   "bibliofile": "biblio.bib",
   "cite_by": "apalike",
   "current_citInitial": 1,
   "eqLabelWithNumbers": true,
   "eqNumInitial": 1,
   "hotkeys": {
    "equation": "Ctrl-E",
    "itemize": "Ctrl-I"
   },
   "labels_anchors": false,
   "latex_user_defs": false,
   "report_style_numbering": false,
   "user_envs_cfg": false
  }
 },
 "nbformat": 4,
 "nbformat_minor": 1
}
