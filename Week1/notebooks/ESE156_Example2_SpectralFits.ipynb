{
 "cells": [
  {
   "cell_type": "markdown",
   "metadata": {},
   "source": [
    "## Example 2: Performing a spectral fit using artificial data in the Uv/Vis\n",
    "Part of ESE 156 Remote Sensing Class; Christian Frankenberg\n",
    "___\n",
    "The purpose of this exercise is to go one step further, understanding how we can phrase observed log(radiances) as a linear system of equations (in Matrix form), using absorption optical depths by a set of absorbers and a simple polynomial for surface properties (we can assume we are having an artificial light shining back and forth a chamber).\n",
    "\n",
    "Most of the absorption cross sections used here are obtained via\n",
    "\n",
    "http://www.iup.uni-bremen.de/gruppen/molspec/databases/index.html\n",
    "\n",
    "http://spectrolab.aeronomie.be/o2.htm\n",
    "\n",
    "In the UV/Vis, a lot of the cross sections are derived in the lab and not just theoretical predictions (kind of a different inverse problem where the concentration in the cell as well as the cell-length, pressure and temperature is known, allowing them to derive the absorption cross section $\\sigma$.\n",
    "\n",
    "In the most basic sense, we are making use of Beer's law here:\n",
    "$$I(\\lambda) = I_0(\\lambda)\\cdot \\exp\\left(-\\sum_{i=1}^N \\sigma_i \\int_0^l n_i(z)dz\\right)$$\n",
    "\n",
    "The basic question here is how can we define a Matrix based linear forward model if we want to retrieve the column density ($\\int_0^l n_i(z)dz$, in $molec/cm^2$) for each trace gas $i$, with respective cross section $\\sigma_i$ (in $cm^2$)?"
   ]
  },
  {
   "cell_type": "code",
   "execution_count": null,
   "metadata": {
    "collapsed": false
   },
   "outputs": [],
   "source": [
    "## Make sure plots are create inline\n",
    "%matplotlib inline\n",
    "# Loading some style files for this class\n",
    "from RSE_style import *\n",
    "from urllib.request import urlopen"
   ]
  },
  {
   "cell_type": "code",
   "execution_count": null,
   "metadata": {
    "collapsed": true
   },
   "outputs": [],
   "source": [
    "figsize(11.,11./1.618)\n",
    "urllib."
   ]
  },
  {
   "cell_type": "markdown",
   "metadata": {},
   "source": [
    "____\n",
    "Load some absorption cross sections for different gases ($\\sigma_i$) (all have a different format, I just masked the comments with # here)"
   ]
  },
  {
   "cell_type": "code",
   "execution_count": null,
   "metadata": {
    "collapsed": false
   },
   "outputs": [],
   "source": [
    "# Define file names (directly on the ftp server using the urllib2 module)\n",
    "file_no2_1 = urlopen(\"ftp://fluo.gps.caltech.edu/XYZT_ESE156/Data/xSections/No2_293h.dat\")\n",
    "file_no2_2 = urlopen(\"ftp://fluo.gps.caltech.edu/XYZT_ESE156/Data/xSections/No2_260h.dat\")\n",
    "file_BrO = urlopen(\"ftp://fluo.gps.caltech.edu/XYZT_ESE156/Data/xSections/BrO_Cross_298K_Static_FTS_4cm.dat\")\n",
    "file_SO2 = urlopen(\"ftp://fluo.gps.caltech.edu/XYZT_ESE156/Data/xSections/so2_16.nm.dat\")\n",
    "file_O3 = urlopen(\"ftp://fluo.gps.caltech.edu/XYZT_ESE156/Data/xSections/ozone_crossSection.dat\")\n",
    "file_Glyoxal = urlopen(\"ftp://fluo.gps.caltech.edu/XYZT_ESE156/Data/xSections/glyoxal_cross_section.dat\")\n",
    "\n",
    "no2_293K = np.loadtxt(file_no2_1)\n",
    "no2_260K = np.loadtxt(file_no2_2)\n",
    "bro = np.loadtxt(file_BrO)\n",
    "so2 = np.loadtxt(file_SO2)\n",
    "o3 = np.loadtxt(file_O3)\n",
    "glyo = np.loadtxt(file_Glyoxal)"
   ]
  },
  {
   "cell_type": "markdown",
   "metadata": {},
   "source": [
    "### Plot cross sections"
   ]
  },
  {
   "cell_type": "code",
   "execution_count": null,
   "metadata": {
    "collapsed": false
   },
   "outputs": [],
   "source": [
    "plt.semilogy(no2_293K[:,0], no2_293K[:,2],label='NO$_2$, 293K', alpha=0.75)\n",
    "plt.semilogy(no2_260K[:,0], no2_260K[:,2],label='NO$_2$, 260K', alpha=0.75)\n",
    "plt.semilogy(so2[:,0], so2[:,1],label='SO$_2$', alpha=0.75)\n",
    "plt.semilogy(o3[:,0], o3[:,1],label='O$_3$', alpha=0.75)\n",
    "plt.semilogy(glyo[:,1], glyo[:,3],label='Glyoxal (C$_2$H$_2$O$_2$)', alpha=0.75)\n",
    "\n",
    "plt.xlim((280,600))\n",
    "plt.legend(loc=0)\n",
    "plt.xlabel('Wavelength (nm)')\n",
    "plt.ylabel('Absorption Cross Section $\\sigma$ (cm$^2$)')"
   ]
  },
  {
   "cell_type": "markdown",
   "metadata": {},
   "source": [
    "___ \n",
    "Let us define a common wavelength grid at which the detector should take data and then interpolate the cross sections to that grid"
   ]
  },
  {
   "cell_type": "code",
   "execution_count": null,
   "metadata": {
    "collapsed": true
   },
   "outputs": [],
   "source": [
    "wl = np.arange(405,465,0.1)"
   ]
  },
  {
   "cell_type": "code",
   "execution_count": null,
   "metadata": {
    "collapsed": true
   },
   "outputs": [],
   "source": [
    "no2_cs_1 = np.interp(wl,no2_293K[::-1,0], no2_293K[::-1,2])\n",
    "no2_cs_2 = np.interp(wl,no2_260K[::-1,0], no2_260K[::-1,2])\n",
    "o3_cs = np.interp(wl,o3[:,0], o3[:,1])\n",
    "glyo_cs = np.interp(wl,glyo[:,1], glyo[:,3])"
   ]
  },
  {
   "cell_type": "code",
   "execution_count": null,
   "metadata": {
    "collapsed": false
   },
   "outputs": [],
   "source": [
    "plt.subplot(411)\n",
    "plt.plot(wl,no2_cs_1)\n",
    "plt.subplot(412)\n",
    "plt.plot(wl,no2_cs_2)\n",
    "plt.subplot(413)\n",
    "plt.plot(wl,o3_cs)\n",
    "plt.subplot(414)\n",
    "plt.plot(wl,glyo_cs)\n",
    "plt.tight_layout()"
   ]
  },
  {
   "cell_type": "markdown",
   "metadata": {},
   "source": [
    "### Create a pseudo-measurement (with random noise)\n",
    "Let's create some pseudo measurement using 3 species only, Ozone, NO2 and Glyoxal, for which we assume a vertical column density of 1e19, 1.5e16 and 1e15 molec/cm$^2$, respectively (somewhat realistic numbers for the Earth's atmosphere)"
   ]
  },
  {
   "cell_type": "code",
   "execution_count": null,
   "metadata": {
    "collapsed": true
   },
   "outputs": [],
   "source": [
    "# Create a pseudo-measurement\n",
    "# First a polynomial term\n",
    "p = np.poly1d([0.00003, -0.002, 2])\n",
    "\n",
    "# Solar Zenith Angle\n",
    "sza = 40\n",
    "\n",
    "# Vertical column densities\n",
    "vcd_no2 = 1.5e16\n",
    "vcd_o3 = 1e19\n",
    "vcd_glyo = 1.0e15\n",
    "\n",
    "# Create some fake measurement with specific vertical columns. Convert Vertical column into slant column:\n",
    "AMF = 1+1./np.cos(sza/180.*np.pi)\n",
    "\n",
    "# Lambert Beer law (just with a prefactor polynomial)\n",
    "I = np.exp(-AMF*1e19*o3_cs)*np.exp(-AMF*1.5e16*no2_cs_1)*np.exp(-AMF*1.e15*glyo_cs)*p(wl-440)\n",
    "\n",
    "# Give it roughly an SNR of 1000 (pretty high!)\n",
    "SNR = 1000\n",
    "noise = np.mean(I)/SNR\n",
    "I = I+np.random.randn(len(I))*noise"
   ]
  },
  {
   "cell_type": "code",
   "execution_count": null,
   "metadata": {
    "collapsed": false
   },
   "outputs": [],
   "source": [
    "plt.plot(wl,I)\n",
    "plt.xlabel('wavelength (nm)')\n",
    "plt.ylabel('Radiance (arbitrary units)')"
   ]
  },
  {
   "cell_type": "markdown",
   "metadata": {},
   "source": [
    "--- \n",
    "### So, how do fit the vertical column densities of each gas? Can you set this up?"
   ]
  },
  {
   "cell_type": "code",
   "execution_count": null,
   "metadata": {
    "collapsed": true
   },
   "outputs": [],
   "source": [
    "# Just as an example to isolate the higher frequency spectrum here (try to fit all in one though!).\n",
    "p2 = np.polyfit(wl,I,3)\n",
    "pf = np.poly1d(p2)"
   ]
  },
  {
   "cell_type": "code",
   "execution_count": null,
   "metadata": {
    "collapsed": false
   },
   "outputs": [],
   "source": [
    "plt.plot(wl,100*(np.log(I)-np.log(pf(wl))))"
   ]
  },
  {
   "cell_type": "markdown",
   "metadata": {},
   "source": [
    "______________________\n",
    "<font color=red>**Question:**</font> Write down the matrix equation for the linearized system. Phrase the problem again as a linear system $Ax=b$"
   ]
  },
  {
   "cell_type": "markdown",
   "metadata": {},
   "source": [
    "### Simple solution:"
   ]
  },
  {
   "cell_type": "code",
   "execution_count": null,
   "metadata": {
    "collapsed": false
   },
   "outputs": [],
   "source": [
    "m = len(I)\n",
    "K = np.array([-o3_cs,-no2_cs_1,-glyo_cs, np.ones(m), wl, wl**2, wl**3]).T\n",
    "K.shape\n",
    "sv = np.linalg.inv(K.T.dot(K)).dot(K.T).dot(np.log(I))\n",
    "print(sv)\n",
    "plt.subplot(211)\n",
    "plt.plot(wl, np.log(I),wl, K.dot(sv) )\n",
    "plt.subplot(212)\n",
    "plt.plot(wl, K.dot(sv)-np.log(I) )"
   ]
  },
  {
   "cell_type": "markdown",
   "metadata": {},
   "source": [
    "____ \n",
    "Let's make a pretty plot of all the fit components now"
   ]
  },
  {
   "cell_type": "code",
   "execution_count": null,
   "metadata": {
    "collapsed": false
   },
   "outputs": [],
   "source": [
    "\n",
    "figsize(10,7)\n",
    "leg = ['Ozone','NO$_2$','Glyoxal']\n",
    "\n",
    "# Just use the Trace gases here, not the polynomial coefficients\n",
    "for i in range(3):\n",
    "    sv_copy = sv.copy()\n",
    "    sv_copy[i]=0\n",
    "    \n",
    "    plt.subplot(3,1,i+1)\n",
    "    plt.title(leg[i]+'; Fitted VCD='+ \"%10.3e\"% (sv[i]/AMF)+ 'molec/cm$^2$')\n",
    "    plt.plot(wl, np.log(I)-K.dot(sv_copy), wl, K.dot(sv-sv_copy) )\n",
    "    plt.ylabel(r'$\\Delta \\tau$')\n",
    "    plt.legend(['Measurement','Fit'], loc=0)\n",
    "plt.xlabel('Wavelength (nm)')\n",
    "plt.tight_layout()\n"
   ]
  },
  {
   "cell_type": "markdown",
   "metadata": {},
   "source": [
    "### Things we ignored here for now:\n",
    "\n",
    "<li> A true solar spectrum with absorptions (we kind of used a spectrally flat sun)\n",
    "<li> Ring effect that causes a pseudo-absorber due to rotational Raman scattering\n",
    "<li> An instrument function (apart from a sampling we used)\n",
    "<li> Changes in spectral characteristics (shift and squeeze of the wavelength grid)"
   ]
  },
  {
   "cell_type": "markdown",
   "metadata": {},
   "source": [
    "______________________\n",
    "<font color=red>**Questions:**</font> \n",
    "\n",
    "Can you rewrite the system as weighted least squares and compute the errors for each trace gas as a function of SNR (say from 50-5000)? \n",
    "\n",
    "Can you add the NO$_2$ cross section for both temperatures in the linear system? What happens if you fit both at the same time (you can use an ensemble of fits using different noise realizations)? Can you explain this behavior with the posterior covariance matrix? What might be the reason for this behavior (mathematically speaking) and how could you stabilize the fit?"
   ]
  },
  {
   "cell_type": "markdown",
   "metadata": {},
   "source": [
    "### Another complication for stronger absorbers:\n",
    "So far, we have basically assumed that the Airmass factor AMF is independent of wavelength, allowing us to separate the retrievals of Slant Column Densities from the actual radiative transfer calculations that would allow us to infer Vertical columns from Slant columns (in the easiest case, just from geometric considerations as explained above).\n",
    "\n",
    "Once strong absorptions take place (or scattering cross sections change rapidly), the AMF can depend on wavelength. Ozone in the UV is a prominent example as its cross section varies by 1-2 orders of magnitude within just 30-40nm. In the more strongly absorbing wavelenths, most of the measured photons will come from atmospheric scattering while the average penetration depth increases with decreasing cross section. Also, in the UV Rayleigh scattering is very strong and surface scattering contribution less so than in the Vis and near-infrared. \n",
    "\n",
    "For these kind of retrievals, some of our assumptions break down and we would need to really couple radiative transfer calculations to the retrieval (which might enable us to also retrieve some vertical profile information, more on that later)."
   ]
  },
  {
   "cell_type": "code",
   "execution_count": null,
   "metadata": {
    "collapsed": false
   },
   "outputs": [],
   "source": [
    "plt.semilogy(so2[:,0], so2[:,1],label='SO$_2$', alpha=0.75)\n",
    "plt.semilogy(o3[:,0], o3[:,1],label='O$_3$', alpha=0.75)\n",
    "\n",
    "plt.xlim((305,350))\n",
    "plt.ylim((1e-22,1e-18))\n",
    "plt.legend(loc=0)\n",
    "plt.xlabel('Wavelength (nm)')\n",
    "plt.ylabel('Absorption Cross Section $\\sigma$ (cm$^2$)')\n",
    "plt.title('SO$_2$ cross section overlap with Ozone in the UV')"
   ]
  },
  {
   "cell_type": "markdown",
   "metadata": {
    "collapsed": true
   },
   "source": [
    "### Ozone:\n",
    "Typical Ozone columns are around 300Dobosn units (1DU = 2.69e16)\n",
    "The figure below shows the vertical transmission of a typical atmosphere and indicates the 2 spectral position of the Dobson spectrophotometer (just as line, should have a finite width)\n"
   ]
  },
  {
   "cell_type": "code",
   "execution_count": null,
   "metadata": {
    "collapsed": false
   },
   "outputs": [],
   "source": [
    "plt.plot(o3[:,0], np.exp(-300*2.69e16*o3[:,1]),label='O$_3$, 300DU', alpha=0.75)\n",
    "plt.plot(o3[:,0], np.exp(-250*2.69e16*o3[:,1]),label='O$_3$, 250DU', alpha=0.75)\n",
    "plt.plot([305,305],[0,1.05],'k-', alpha=0.4)\n",
    "plt.plot([325,325],[0,1.05],'k-', alpha=0.4)\n",
    "plt.xlim((280,370))\n",
    "plt.ylim((0.0,1.05))\n",
    "plt.title('O$_3$ atmospheric transmission (vertical only)')\n",
    "plt.legend()"
   ]
  },
  {
   "cell_type": "code",
   "execution_count": null,
   "metadata": {
    "collapsed": true
   },
   "outputs": [],
   "source": []
  }
 ],
 "metadata": {
  "anaconda-cloud": {},
  "kernelspec": {
   "display_name": "Python [conda env:anaconda3]",
   "language": "python",
   "name": "conda-env-anaconda3-py"
  },
  "language_info": {
   "codemirror_mode": {
    "name": "ipython",
    "version": 3
   },
   "file_extension": ".py",
   "mimetype": "text/x-python",
   "name": "python",
   "nbconvert_exporter": "python",
   "pygments_lexer": "ipython3",
   "version": "3.5.2"
  }
 },
 "nbformat": 4,
 "nbformat_minor": 1
}
