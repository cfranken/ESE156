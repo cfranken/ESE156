{
 "cells": [
  {
   "cell_type": "markdown",
   "metadata": {},
   "source": [
    "## Example 1: Fitting data using Linear Least Squares \n",
    "#### (not using ready-made software tools)\n",
    "Part of ESE 156 Remote Sensing Class;\n",
    "Christian Frankenberg\n",
    "__________\n",
    "The purpose of this exercise is to use a very simple linear fit to a set of datapoints as an example for a linear forward model as well as the inversion of the parameters needed to explain the curve-fit. Once you have done this and understood the math behind it, you will be able to apply the strategy to a wider set of problems!"
   ]
  },
  {
   "cell_type": "markdown",
   "metadata": {},
   "source": [
    "__________\n",
    "Just some style definitions at the top (to make it pretty) and import of most important tools"
   ]
  },
  {
   "cell_type": "code",
   "execution_count": 1,
   "metadata": {},
   "outputs": [],
   "source": [
    "## Make sure plots are create inline\n",
    "%matplotlib inline\n",
    "# Loading some style files for this class\n",
    "from RSE_style import *"
   ]
  },
  {
   "cell_type": "markdown",
   "metadata": {},
   "source": [
    "### Linefit\n",
    "Most of you (I hope so) have probably performed fits of a simple linear equation to a $(\\vec{x},\\vec{y})$ dataset. In the simplest case, we are interested in linear fit with slope $a_2$ and offset $a_1$, in which case we can write a simple linear equation as $$y = a_1 + a_2\\cdot x\\,.$$\n",
    "\n",
    "If we have a set of $n$ points $(x_i,y_i)$, we can find the optimal coefficients $a_1,a_2$ by minimizing the squared differences between measurement and model, hence least squares. Thus, we have to find the coefficients in $a$ that minimize the cost function:\n",
    "\n",
    "$$\\chi^2 = \\sum_{i=0}^n \\left(y_i-(a_1+a_2 \\cdot x_i)\\right)^2$$\n",
    "\n",
    "To find the solution, we can rephrase the problem using linear algebra:\n",
    "\n",
    "\n",
    "\\begin{equation}\n",
    "\\begin{bmatrix}\n",
    " y_1 \\\\ y_2 \\\\ \\vdots \\\\ y_{n} \n",
    " \\end{bmatrix}\n",
    " =\n",
    " \\begin{pmatrix}\n",
    "  1 && x_1 \\\\\n",
    "  1 && x_2 \\\\\n",
    "  \\vdots && \\vdots \\\\\n",
    "  1 && x_n\n",
    "  \\end{pmatrix}\n",
    "  \\times\n",
    "  \\begin{pmatrix}\n",
    "  a_1 \\\\ a_2 \n",
    "  \\end{pmatrix}\n",
    "\\end{equation}\n",
    "\n",
    "In short hand, we can use $Ka=y$. The optimal solution to $a$ is obtained by minimizing the squared differences between $Ka$ and $y$, i.e. $min||Ka-y||^2$ or minimize $(Ka-x)^T (Ka-x)$, two different ways of writing it. \n",
    "\n",
    "In the ordinary unweighted least squares case, the solution is given by the normal equations (if you want the derivation, check e.g. https://eli.thegreenplace.net/2014/derivation-of-the-normal-equation-for-linear-regression ):\n",
    "$$a = (K^TK)^{-1}K^Ty$$\n",
    "\n",
    "*Note:* There are more stable ways to solve the normal equations than the brute force application of the matrix equations but we ignore this for now.\n"
   ]
  },
  {
   "cell_type": "markdown",
   "metadata": {},
   "source": [
    "__________\n",
    "### Simple example\n",
    "Here, we can use a random number generator to obtain a set of x and y points and then solve the normal equations"
   ]
  },
  {
   "cell_type": "code",
   "execution_count": 2,
   "metadata": {},
   "outputs": [
    {
     "name": "stdout",
     "output_type": "stream",
     "text": [
      "1.583737666600325\n",
      "('Offset ', '0.022759298192829982')\n",
      "('Slope ', '2.981555611453717')\n"
     ]
    },
    {
     "data": {
      "text/plain": [
       "Text(0.5,0,'x')"
      ]
     },
     "execution_count": 2,
     "metadata": {},
     "output_type": "execute_result"
    },
    {
     "data": {
      "image/png": "[encoded data removed]",
      "text/plain": [
       "<Figure size 432x288 with 2 Axes>"
      ]
     },
     "metadata": {},
     "output_type": "display_data"
    }
   ],
   "source": [
    "# Import random number generator:\n",
    "import random\n",
    "\n",
    "# True values for offset and slope:\n",
    "a1 = 0\n",
    "a2 = 3\n",
    "\n",
    "# define noise level\n",
    "noise=1.5\n",
    "\n",
    "# Generate a random set of x and y (note, we fix x here, i.e. x is without \"error\"):\n",
    "x = np.arange(1,5,0.1)\n",
    "# Compute y given x and add some random number (normal distribution) to it\n",
    "eps = noise*np.random.randn(len(x),)\n",
    "print(np.std(eps))\n",
    "y = a1+ a2*x + eps\n",
    "\n",
    "n = len(x)\n",
    "# Define K matrix here\n",
    "K = np.array([np.ones(n), x]).T\n",
    "#print(K)\n",
    "\n",
    "# Plot all dots\n",
    "plt.subplot(211)\n",
    "plt.plot(x, y, 'r.')\n",
    "plt.ylabel('y')\n",
    "plt.xlabel('x')\n",
    "\n",
    "# Solve Normal Equation:\n",
    "a = np.linalg.inv(K.T.dot(K)).dot(K.T).dot(y)\n",
    "print ('Offset ', str(a[0]))\n",
    "print ('Slope ', str(a[1]))\n",
    "\n",
    "# Reconstruct fit:\n",
    "plt.plot(x, np.dot(K,a), color='k')\n",
    "\n",
    "# Plot residuals\n",
    "plt.subplot(212)\n",
    "plt.plot(x, y-np.dot(K,a), 'r.')\n",
    "plt.ylabel('Ka-y')\n",
    "plt.xlabel('x')"
   ]
  },
  {
   "cell_type": "code",
   "execution_count": 3,
   "metadata": {},
   "outputs": [
    {
     "name": "stdout",
     "output_type": "stream",
     "text": [
      "1.583737666600325\n",
      "1.583594546008038\n"
     ]
    },
    {
     "data": {
      "image/png": "[encoded data removed]",
      "text/plain": [
       "<Figure size 432x288 with 1 Axes>"
      ]
     },
     "metadata": {},
     "output_type": "display_data"
    }
   ],
   "source": [
    "# Let's look at noise normalized residuals:\n",
    "plt.plot(x, (np.dot(K,a)-y)/noise, 'r.')\n",
    "plt.ylim((-3,3))\n",
    "print(np.std(eps))\n",
    "print(np.std(y-np.dot(K,a)))\n"
   ]
  },
  {
   "cell_type": "markdown",
   "metadata": {},
   "source": [
    "### Goodness of fit\n",
    "A bad correlation coefficient between $x$ and $y$ doesn't necessarily mean that there is no causation. A better metric for the goodness of fit is the $\\chi^2$ statistics, as our model-data mismatches should follow that statistic if they behave the way we expected. \n",
    "Of particular importance is the reduced $\\chi^2$, which we can define as\n",
    "$$\\chi_r^2 = \\frac{\\chi^2}{DOF}$$\n",
    "with the degrees of freedom DOF defined as the number of observations $n$ minus the number of fitted parameters.\n"
   ]
  },
  {
   "cell_type": "code",
   "execution_count": 4,
   "metadata": {},
   "outputs": [
    {
     "name": "stdout",
     "output_type": "stream",
     "text": [
      "1.173226519834575\n",
      "0.8252821089104493\n"
     ]
    }
   ],
   "source": [
    "# Regular chi2:\n",
    "chi2 = np.sum(((np.dot(K,a)-y)/noise)**2)\n",
    "# reduced chi2:\n",
    "chi2_r = chi2/(n-len(a))\n",
    "print(chi2_r)\n",
    "print(np.corrcoef(x, y)[0,1]**2)"
   ]
  },
  {
   "cell_type": "markdown",
   "metadata": {
    "collapsed": true
   },
   "source": [
    "----------------------------\n",
    "\n",
    "Now let's try to do some same with a better knowledge of the individual measurement errors, which we can include in a measurement error covariance matrix $S_\\epsilon$. In the simplest case, $S_\\epsilon$ is purely diagonal as measurement errors are usually not correlated with each other (but could). We keep it in Matrix form here to remain general but use a diagonal form.\n",
    "\n",
    "\\begin{equation}\n",
    "S_{\\epsilon} = \\left( \\begin{array}{ccccc}\n",
    "\\sigma_1^2 & \\hfill & \\hfill & \\hfill & \\hfill \\\\\n",
    "\\hfill & \\sigma_2^2 & \\hfill & \\hfill & \\hfill \\\\\n",
    "\\hfill & \\hfill & \\ddots &\\hfill & \\hfill \\\\\n",
    "\\hfill & \\hfill & \\hfill & \\sigma_{n-1}^2 & \\hfill \\\\\n",
    "\\hfill & \\hfill & \\hfill & \\hfill & \\sigma_{n}^2 \\\\\n",
    "\\end{array} \\right)\n",
    "\\end{equation}\n",
    "\n",
    "with the inverse $S^{-1}_{\\epsilon}$ for the diagonal case being:\n",
    "\\begin{equation}\n",
    "S^{-1}_{\\epsilon} = \\left( \\begin{array}{ccccc}\n",
    "1/\\sigma_1^2 & \\hfill & \\hfill & \\hfill & \\hfill \\\\\n",
    "\\hfill & 1/\\sigma_2^2 & \\hfill & \\hfill & \\hfill \\\\\n",
    "\\hfill & \\hfill & \\ddots &\\hfill & \\hfill \\\\\n",
    "\\hfill & \\hfill & \\hfill & 1/\\sigma_{n-1}^2 & \\hfill \\\\\n",
    "\\hfill & \\hfill & \\hfill & \\hfill & 1/\\sigma_{n}^2 \\\\\n",
    "\\end{array} \\right)\n",
    "\\end{equation}\n",
    "\n",
    "What we need to derive now is the minimum of the weighted differences. In matrix form, the sum of the weighted squared difference can be written as $$(Ka-y)^T S^{-1}_{\\epsilon} (Ka-y)$$\n",
    "\n",
    "Finding the zero slope in the derivate with respect to a yields a slightly modified equation to above:\n",
    "$$a = (K^T S^{-1}_\\epsilon K)^{-1}K^T S^{-1}_\\epsilon y$$\n",
    "\n",
    "Compare this to the optimal solution found in Rodgers at page 25, equation 2.30. What is the main difference? \n",
    "_______________\n",
    "\n"
   ]
  },
  {
   "cell_type": "markdown",
   "metadata": {
    "collapsed": true
   },
   "source": [
    "Let us try solving the same problem as above again, this just using the knowledge that the $1\\sigma$ error the same as previously defined as \"noise\" level, a constant noise for each measurement. "
   ]
  },
  {
   "cell_type": "code",
   "execution_count": 5,
   "metadata": {},
   "outputs": [],
   "source": [
    "# Construct error covariance matrix (do the inverse directly, as it is easy in the diagonal form)\n",
    "# In principle, we could use a vector here or special forms o diagonal matrices (saves both space and computations)\n",
    "invSe = np.zeros((n,n))\n",
    "for i in range(n):\n",
    "    invSe[i,i] = 1./noise**2.\n"
   ]
  },
  {
   "cell_type": "markdown",
   "metadata": {},
   "source": [
    "And now solve the equation again as before:"
   ]
  },
  {
   "cell_type": "code",
   "execution_count": 6,
   "metadata": {},
   "outputs": [
    {
     "name": "stdout",
     "output_type": "stream",
     "text": [
      "('Offset ', '0.02275929819282773')\n",
      "('Slope ', '2.98155561145372')\n"
     ]
    },
    {
     "data": {
      "text/plain": [
       "[<matplotlib.lines.Line2D at 0x1112516d0>,\n",
       " <matplotlib.lines.Line2D at 0x1124e0490>]"
      ]
     },
     "execution_count": 6,
     "metadata": {},
     "output_type": "execute_result"
    },
    {
     "data": {
      "image/png": "[encoded data removed]",
      "text/plain": [
       "<Figure size 432x288 with 1 Axes>"
      ]
     },
     "metadata": {},
     "output_type": "display_data"
    }
   ],
   "source": [
    "# somewhat overkill here as invSe is diagonal but it works:\n",
    "aS = np.linalg.inv(K.T.dot(invSe).dot(K)).dot(K.T).dot(invSe).dot(y)\n",
    "\n",
    "print ('Offset ', str(aS[0]))\n",
    "print ('Slope ', str(aS[1]))\n",
    "\n",
    "# Reconstruct fit:\n",
    "plt.plot(x,y,'r.', x, np.dot(K,aS), 'k-')"
   ]
  },
  {
   "cell_type": "markdown",
   "metadata": {},
   "source": [
    "### What use is this?\n",
    "______\n",
    "In this example, the 2 solutions are identical as the weighting is the same for each measurement (which can be changed). The biggest advantage in having an idea about the actual measurement uncertainty is that we can derive  uncertainties in the derived state vector $a$ (in the future, we will use $x$ for the state vector).\n",
    "The error covariance of the retrieved state vector is (which we kind of computed already before):\n",
    "\n",
    "$$\\hat{S}=(K^T S^{-1}_\\epsilon K)^{-1}$$\n"
   ]
  },
  {
   "cell_type": "markdown",
   "metadata": {},
   "source": [
    "____\n"
   ]
  },
  {
   "cell_type": "code",
   "execution_count": 7,
   "metadata": {},
   "outputs": [],
   "source": [
    "# Posterior covariance matrix S\n",
    "S = np.linalg.inv(K.T.dot(invSe).dot(K))"
   ]
  },
  {
   "cell_type": "code",
   "execution_count": 8,
   "metadata": {},
   "outputs": [
    {
     "name": "stdout",
     "output_type": "stream",
     "text": [
      "[[ 0.42361632 -0.12453096]\n",
      " [-0.12453096  0.04221388]]\n"
     ]
    }
   ],
   "source": [
    "print(S)"
   ]
  },
  {
   "cell_type": "markdown",
   "metadata": {},
   "source": [
    "_______\n",
    "This might be something you have never really paid attention to as most standard methods never provide the full error covariance matrix (the 2x2 matrix here really is an easy case). \n",
    "What does the off-diagonal mean? The errors seems to correlated with the correlation coeffitient $corr(a_1,a_2)=cov(a_1,a_2)/(std(a_1)\\cdot std(a_2))$"
   ]
  },
  {
   "cell_type": "code",
   "execution_count": 9,
   "metadata": {},
   "outputs": [
    {
     "name": "stdout",
     "output_type": "stream",
     "text": [
      "('Correlation between retrieved a1 and a2: ', -0.4221114714335153)\n",
      "('1sigma error in a1', 0.6508581433013556)\n",
      "('1sigma error in a2', 0.20546017540462239)\n"
     ]
    }
   ],
   "source": [
    "print('Correlation between retrieved a1 and a2: ', S[0,1]/(np.sqrt(S[0,0]*np.sqrt(S[1,1]))))\n",
    "print(r'1sigma error in a1', np.sqrt(S[0,0]))\n",
    "print(r'1sigma error in a2', np.sqrt(S[1,1]))"
   ]
  },
  {
   "cell_type": "markdown",
   "metadata": {},
   "source": [
    "_____\n",
    "Any idea why these variable are correlated with each other (negatively!)? Can you think of a graphical explanation of it?"
   ]
  },
  {
   "cell_type": "markdown",
   "metadata": {},
   "source": [
    "______________________\n",
    "How could you re-phrase the problem to make the fits in a_1 and a_2 more independent of each other?"
   ]
  },
  {
   "cell_type": "markdown",
   "metadata": {},
   "source": [
    "____\n",
    "Let us run it again using an ensemble to look at the distribution of retrieved properties:\n"
   ]
  },
  {
   "cell_type": "code",
   "execution_count": 10,
   "metadata": {},
   "outputs": [
    {
     "name": "stdout",
     "output_type": "stream",
     "text": [
      "(0, 3)\n"
     ]
    }
   ],
   "source": [
    "# Pre-compute Gain Matrix G as we don't need to do that all the time:\n",
    "Gain = np.linalg.inv(K.T.dot(invSe).dot(K)).dot(K.T).dot(invSe)\n",
    "\n",
    "# True values:\n",
    "a1 = 0\n",
    "a2 = 3\n",
    "\n",
    "# Number of samples:\n",
    "samples = 10000\n",
    "ar = np.zeros((samples,2))\n",
    "chi2_ = np.zeros((samples,))\n",
    "print(a1,a2)\n",
    "\n",
    "# Loop through different random fits\n",
    "for i in range(samples):\n",
    "    y = a1+a2*x + noise*np.random.randn(len(x),)\n",
    "    a = Gain.dot(y)\n",
    "    ar[i,0]=a[0]\n",
    "    ar[i,1]=a[1]\n",
    "    # Save reduced chi2 as well:\n",
    "    chi2_[i]=np.sum(((np.dot(K,a)-y)/noise)**2)/(n-len(a))\n"
   ]
  },
  {
   "cell_type": "code",
   "execution_count": 11,
   "metadata": {},
   "outputs": [
    {
     "data": {
      "text/plain": [
       "[<matplotlib.lines.Line2D at 0x1113c52d0>]"
      ]
     },
     "execution_count": 11,
     "metadata": {},
     "output_type": "execute_result"
    },
    {
     "data": {
      "image/png": "[encoded data removed]",
      "text/plain": [
       "<Figure size 432x288 with 1 Axes>"
      ]
     },
     "metadata": {},
     "output_type": "display_data"
    }
   ],
   "source": [
    "plt.plot(ar[:,0],ar[:,1],'k.',markersize=2, alpha=0.5)"
   ]
  },
  {
   "cell_type": "code",
   "execution_count": 12,
   "metadata": {},
   "outputs": [
    {
     "name": "stdout",
     "output_type": "stream",
     "text": [
      "[[ 0.42190177 -0.12405102]\n",
      " [-0.12405102  0.04214091]]\n"
     ]
    }
   ],
   "source": [
    "# Let's take a look at the covariance computed from the set of retrieved a_1 and a_2\n",
    "print(np.cov(ar.T))"
   ]
  },
  {
   "cell_type": "markdown",
   "metadata": {},
   "source": [
    "____\n",
    "Compare the \"data-derived\" distribution with the one we predicted using the error-covariance before. Due to the large sample size, they come pretty close. In our case, this was a well behaved example with Gaussian errors but this example also gives you an idea how to derive error statistics using monte carlo simulations (which could draw random errors from a non-Gaussian distribution for instance)."
   ]
  },
  {
   "cell_type": "code",
   "execution_count": 13,
   "metadata": {},
   "outputs": [
    {
     "name": "stderr",
     "output_type": "stream",
     "text": [
      "/Users/cfranken/anaconda/lib/python2.7/site-packages/matplotlib/axes/_axes.py:6462: UserWarning: The 'normed' kwarg is deprecated, and has been replaced by the 'density' kwarg.\n",
      "  warnings.warn(\"The 'normed' kwarg is deprecated, and has been \"\n"
     ]
    },
    {
     "data": {
      "text/plain": [
       "<matplotlib.legend.Legend at 0x11449b0d0>"
      ]
     },
     "execution_count": 13,
     "metadata": {},
     "output_type": "execute_result"
    },
    {
     "data": {
      "image/png": "[encoded data removed]",
      "text/plain": [
       "<Figure size 432x288 with 1 Axes>"
      ]
     },
     "metadata": {},
     "output_type": "display_data"
    }
   ],
   "source": [
    "from scipy.stats import chi2\n",
    "dof = n-len(a)\n",
    "rv = chi2(dof)\n",
    "xx = np.arange(0.35,3,0.02)\n",
    "plt.plot(xx,rv.pdf(xx*dof)*dof, label='Theoretical')\n",
    "plt.hist(chi2_,40,normed=True,label='Measured' )\n",
    "plt.xlabel(r'$\\chi^2_r$')\n",
    "plt.legend()"
   ]
  },
  {
   "cell_type": "code",
   "execution_count": null,
   "metadata": {},
   "outputs": [],
   "source": []
  }
 ],
 "metadata": {
  "anaconda-cloud": {},
  "kernelspec": {
   "display_name": "Python 2",
   "language": "python",
   "name": "python2"
  },
  "language_info": {
   "codemirror_mode": {
    "name": "ipython",
    "version": 2
   },
   "file_extension": ".py",
   "mimetype": "text/x-python",
   "name": "python",
   "nbconvert_exporter": "python",
   "pygments_lexer": "ipython2",
   "version": "2.7.15"
  }
 },
 "nbformat": 4,
 "nbformat_minor": 1
}
