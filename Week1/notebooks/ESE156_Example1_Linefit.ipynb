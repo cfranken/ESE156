{
 "cells": [
  {
   "cell_type": "markdown",
   "metadata": {},
   "source": [
    "### Example 1: Fitting data using Least Squares (no ready-made software tools)\n",
    "Part of ESE 156 Remote Sensing Class;\n",
    "Christian Frankenberg\n",
    "__________\n",
    "The purpose of this little exercise is to use a very simple linear fit to a set of datapoints as an example for a linear forward model as well as the inversion of the parameters needed to explain the curve-fit. Once you have done this and understood the math behind it, you will be able to apply the strategy to a wider set of problems!"
   ]
  },
  {
   "cell_type": "markdown",
   "metadata": {},
   "source": [
    "Just some style definitions at the top (to make it pretty) and import of most important tools"
   ]
  },
  {
   "cell_type": "code",
   "execution_count": 1,
   "metadata": {},
   "outputs": [],
   "source": [
    "## Make sure plots are create inline\n",
    "%matplotlib inline\n",
    "## The usual packages (numpy, matplotlib, etc)\n",
    "import matplotlib.pyplot as plt\n",
    "import numpy as np\n",
    "# nicer figures using ggg plot style.\n",
    "plt.style.use('ggplot')\n",
    "from IPython.core.display import HTML\n",
    "def css_styling():\n",
    "    styles = open(\"../../python/styles/custom.css\", \"r\").read()\n",
    "    return HTML(styles)\n",
    "css_styling()\n",
    "from matplotlib import rc\n",
    "#rc('font',**{'family':'sans-serif','sans-serif':['Helvetica']})\n",
    "## for Palatino and other serif fonts use:\n",
    "#rc('font',**{'family':'serif','serif':['Palatino']})\n",
    "rc('text', usetex=False)"
   ]
  },
  {
   "cell_type": "markdown",
   "metadata": {},
   "source": [
    "Most of you (I hope so) have probably performed fits of a simple linear equation to a $(\\vec{x},\\vec{y})$ dataset. In the simplest case, we are interested in linear fit with slope $a_2$ and offset $a_1$: $y = a_1 + a_2\\cdot x$.\n",
    "\n",
    "If we have a set of points $(x,y)$, we can find the optimal coefficients $a_1,a_2$ by minimizing the squared differences between measurement and model, hence least squares. \n",
    "\n",
    "To find the solution, we can rephrase the problem using linear algebra:\n",
    "\n",
    "\n",
    "\\begin{equation}\n",
    "\\begin{bmatrix}\n",
    " y_1 \\\\ y_2 \\\\ \\vdots \\\\ y_{m} \n",
    " \\end{bmatrix}\n",
    " =\n",
    " \\begin{pmatrix}\n",
    "  1 && x_1 \\\\\n",
    "  1 && x_2 \\\\\n",
    "  \\vdots && \\vdots \\\\\n",
    "  1 && x_m\n",
    "  \\end{pmatrix}\n",
    "  \\times\n",
    "  \\begin{pmatrix}\n",
    "  a_1 \\\\ a_2 \n",
    "  \\end{pmatrix}\n",
    "\\end{equation}\n",
    "\n",
    "In short hand, we can use $Ka=y$. The optimal solution to $a$ is obtianed by minimizing the squared differences between $Ka$ and $y$, i.e. $min||Ka-y||^2$ or minimize $(Ka-x)^T (Ka-x)$, just two different ways of writing it. \n",
    "\n",
    "In the ordinary unweighted least squares case, the solution is given by the normal equations (if you want the derivation, check http://eli.thegreenplace.net/2014/derivation-of-the-normal-equation-for-linear-regression):\n",
    "$$a = (K^TK)^{-1}K^Ty$$\n",
    "\n",
    "Note: There are more stable ways to solve the normal equations than the brute force application of the matrix equations but we ignore this for now.\n"
   ]
  },
  {
   "cell_type": "code",
   "execution_count": 4,
   "metadata": {},
   "outputs": [
    {
     "name": "stdout",
     "output_type": "stream",
     "text": [
      "('Offset ', '0.08968492262493666')\n",
      "('Slope ', '2.9800557463177095')\n"
     ]
    },
    {
     "data": {
      "text/plain": [
       "[<matplotlib.lines.Line2D at 0x1132bffd0>]"
      ]
     },
     "execution_count": 4,
     "metadata": {},
     "output_type": "execute_result"
    },
    {
     "data": {
      "image/png": "[encoded data removed]",
      "text/plain": [
       "<Figure size 432x288 with 1 Axes>"
      ]
     },
     "metadata": {},
     "output_type": "display_data"
    }
   ],
   "source": [
    "# Import random number generator:\n",
    "import random\n",
    "# True values:\n",
    "a1 = 0\n",
    "a2 = 3\n",
    "\n",
    "# Generate a random set of x and y:\n",
    "x = np.arange(1,5,0.2)\n",
    "#x += np.random.randn(len(x),)\n",
    "y = a1+a2*x + np.random.randn(len(x),)*2\n",
    "\n",
    "m = len(x)\n",
    "K = np.array([np.ones(m), x]).T\n",
    "#print(K)\n",
    "#y = np.array(y).reshape(-1, 1)\n",
    "plt.plot(x, y, 'r.')\n",
    "\n",
    "# Solve Normal Equation:\n",
    "a = np.linalg.inv(K.T.dot(K)).dot(K.T).dot(y)\n",
    "print ('Offset ', str(a[0]))\n",
    "print ('Slope ', str(a[1]))\n",
    "\n",
    "# Reconstruct fit:\n",
    "xx = np.linspace(-1, 6, 2)\n",
    "yy = np.array(a[0] + a[1] * xx)\n",
    "plt.plot(xx, yy, color='k')\n",
    "\n"
   ]
  },
  {
   "cell_type": "code",
   "execution_count": 6,
   "metadata": {},
   "outputs": [
    {
     "data": {
      "text/plain": [
       "[<matplotlib.lines.Line2D at 0x11304ecd0>]"
      ]
     },
     "execution_count": 6,
     "metadata": {},
     "output_type": "execute_result"
    },
    {
     "data": {
      "image/png": "[encoded data removed]",
      "text/plain": [
       "<Figure size 432x288 with 1 Axes>"
      ]
     },
     "metadata": {},
     "output_type": "display_data"
    }
   ],
   "source": [
    "# Plot residuals here:\n",
    "plt.plot(x, np.dot(K,a)-y, 'r.')"
   ]
  },
  {
   "cell_type": "markdown",
   "metadata": {
    "collapsed": true
   },
   "source": [
    "----------------------------\n",
    "\n",
    "Now let's try to do some same with a better knowledge of the individual measurement errors, which we can include in a measurement error covariance matrix $S_\\epsilon$. In the simplest case, $S_\\epsilon$ is purely diagonal as measurement errors are usually not correlated with each other (but could). We keep it in Matrix form here to remain general but use a diagonal form.\n",
    "\n",
    "\\begin{equation}\n",
    "S_{\\epsilon} = \\left( \\begin{array}{ccccc}\n",
    "\\sigma_1^2 & \\hfill & \\hfill & \\hfill & \\hfill \\\\\n",
    "\\hfill & \\sigma_2^2 & \\hfill & \\hfill & \\hfill \\\\\n",
    "\\hfill & \\hfill & \\ddots &\\hfill & \\hfill \\\\\n",
    "\\hfill & \\hfill & \\hfill & \\sigma_{m-1}^2 & \\hfill \\\\\n",
    "\\hfill & \\hfill & \\hfill & \\hfill & \\sigma_{m}^2 \\\\\n",
    "\\end{array} \\right)\n",
    "\\end{equation}\n",
    "\n",
    "with the inverse $S^{-1}_{\\epsilon}$ for the diagonal case being:\n",
    "\\begin{equation}\n",
    "S^{-1}_{\\epsilon} = \\left( \\begin{array}{ccccc}\n",
    "1/\\sigma_1^2 & \\hfill & \\hfill & \\hfill & \\hfill \\\\\n",
    "\\hfill & 1/\\sigma_2^2 & \\hfill & \\hfill & \\hfill \\\\\n",
    "\\hfill & \\hfill & \\ddots &\\hfill & \\hfill \\\\\n",
    "\\hfill & \\hfill & \\hfill & 1/\\sigma_{m-1}^2 & \\hfill \\\\\n",
    "\\hfill & \\hfill & \\hfill & \\hfill & 1/\\sigma_{m}^2 \\\\\n",
    "\\end{array} \\right)\n",
    "\\end{equation}\n",
    "\n",
    "What we need to derive now is the minimum of the weighted differences. In matrix form, the sum of the weighted squared difference can be written as $$(Ka-y)^T S^{-1}_{\\epsilon} (Ka-y)$$\n",
    "\n",
    "Finding the zero slope in the derivate with respect to a yields a slightly modified equation to above:\n",
    "$$a = (K^T S^{-1}_\\epsilon K)^{-1}K^T S^{-1}_\\epsilon y$$\n",
    "\n",
    "Compare this to the optimal solution found in Rodgers at page 25, equation 2.30. What is the main difference? \n",
    "_______________\n",
    "\n"
   ]
  },
  {
   "cell_type": "markdown",
   "metadata": {
    "collapsed": true
   },
   "source": [
    "Let us try solving the same problem as above again, this just using the knowledge that the $1\\sigma$ error is 2.0. "
   ]
  },
  {
   "cell_type": "code",
   "execution_count": 7,
   "metadata": {},
   "outputs": [],
   "source": [
    "# Construct error covariance matrix (do the inverse directly, as it is easy in the diagonal form)\n",
    "# In principle, we could use a vector here or special forms o diagonal matrices (saves both space and computations)\n",
    "invSe = np.zeros((m,m))\n",
    "for i in range(m):\n",
    "    invSe[i,i] = 1./2.0**2.\n"
   ]
  },
  {
   "cell_type": "markdown",
   "metadata": {},
   "source": [
    "And now solve the equation again as before:"
   ]
  },
  {
   "cell_type": "code",
   "execution_count": 8,
   "metadata": {},
   "outputs": [
    {
     "name": "stdout",
     "output_type": "stream",
     "text": [
      "('Offset ', '0.08968492262494154')\n",
      "('Slope ', '2.9800557463177104')\n"
     ]
    },
    {
     "data": {
      "text/plain": [
       "[<matplotlib.lines.Line2D at 0x11146a3d0>,\n",
       " <matplotlib.lines.Line2D at 0x1134e5550>]"
      ]
     },
     "execution_count": 8,
     "metadata": {},
     "output_type": "execute_result"
    },
    {
     "data": {
      "image/png": "[encoded data removed]",
      "text/plain": [
       "<Figure size 432x288 with 1 Axes>"
      ]
     },
     "metadata": {},
     "output_type": "display_data"
    }
   ],
   "source": [
    "# somewhat overkill here as invSe is diagonal but it works:\n",
    "aS = np.linalg.inv(K.T.dot(invSe).dot(K)).dot(K.T).dot(invSe).dot(y)\n",
    "print ('Offset ', str(aS[0]))\n",
    "print ('Slope ', str(aS[1]))\n",
    "\n",
    "# Reconstruct fit:\n",
    "xx = np.linspace(-1, 6, 2)\n",
    "yy = np.array(aS[0] + aS[1] * xx)\n",
    "plt.plot(x,y,'r.', xx, yy, 'k-')"
   ]
  },
  {
   "cell_type": "markdown",
   "metadata": {},
   "source": [
    "______\n",
    "In this example, the 2 solutions are identical as the weighting is the same for each measurement (which can be changed). The biggest advantage in having an idea about the actual uncertainty in the measurements is that we can derive better uncertainties in the derived state vector $a$ (in the future, we will use $x$ for the state vector).\n",
    "The error covariance of the retrieved state vector is (which we kind of computed already before):\n",
    "\n",
    "$$\\hat{S}=(K^T S^{-1}_\\epsilon K)^{-1}$$\n"
   ]
  },
  {
   "cell_type": "markdown",
   "metadata": {},
   "source": [
    "____\n"
   ]
  },
  {
   "cell_type": "code",
   "execution_count": 9,
   "metadata": {},
   "outputs": [],
   "source": [
    "# Posterior covariance matrix S\n",
    "S = np.linalg.inv(K.T.dot(invSe).dot(K))"
   ]
  },
  {
   "cell_type": "code",
   "execution_count": 10,
   "metadata": {},
   "outputs": [
    {
     "name": "stdout",
     "output_type": "stream",
     "text": [
      "[[ 1.46466165 -0.43609023]\n",
      " [-0.43609023  0.15037594]]\n"
     ]
    }
   ],
   "source": [
    "print(S)"
   ]
  },
  {
   "cell_type": "markdown",
   "metadata": {},
   "source": [
    "_______\n",
    "This might be something you have never really paid attention to as most standard methods never provide the full error covariance matrix (the 2x2 matrix here really is an easy case). \n",
    "What does the off-diagonal mean? The errors seems to correlated with the correlation coeffitient $corr(a_1,a_2)=cov(a_1,a_2)/(std(a_1)\\cdot std(a_2))$"
   ]
  },
  {
   "cell_type": "code",
   "execution_count": null,
   "metadata": {},
   "outputs": [],
   "source": [
    "print('Correlation between retrieved a1 and a2: ', S[0,1]/(np.sqrt(S[0,0]*np.sqrt(S[1,1]))))\n",
    "print(r'1sigma error in a1', np.sqrt(S[0,0]))\n",
    "print(r'1sigma error in a2', np.sqrt(S[1,1]))"
   ]
  },
  {
   "cell_type": "markdown",
   "metadata": {},
   "source": [
    "_____\n",
    "Any idea why these variable are correlated with each other (negatively!)? Can you think of a graphical explanation of it?"
   ]
  },
  {
   "cell_type": "markdown",
   "metadata": {},
   "source": [
    "______________________\n",
    "How could you re-phrase the problem to make the fits in a_1 and a_2 more independent of each other?"
   ]
  },
  {
   "cell_type": "markdown",
   "metadata": {},
   "source": [
    "____\n",
    "Let us run it again using an ensemble to look at the distribution of retrieved properties:\n"
   ]
  },
  {
   "cell_type": "code",
   "execution_count": null,
   "metadata": {},
   "outputs": [],
   "source": [
    "# Pre-compute Gain Matrix G as we don't need to do that all the time:\n",
    "Gain = np.linalg.inv(K.T.dot(invSe).dot(K)).dot(K.T).dot(invSe)\n",
    "\n",
    "# True values:\n",
    "a1 = 0\n",
    "a2 = 3\n",
    "\n",
    "# Number of samples:\n",
    "samples = 1000\n",
    "ar = np.zeros((samples,2))\n",
    "print(a1,a2)\n",
    "\n",
    "# Loop through different random fits\n",
    "for i in range(samples):\n",
    "    y = a1+a2*x + np.random.randn(len(x),)*2\n",
    "    a = Gain.dot(y)\n",
    "    ar[i,0]=a[0]\n",
    "    ar[i,1]=a[1]\n"
   ]
  },
  {
   "cell_type": "code",
   "execution_count": null,
   "metadata": {},
   "outputs": [],
   "source": [
    "plt.plot(ar[:,0],ar[:,1],'k.',markersize=2, alpha=0.5)"
   ]
  },
  {
   "cell_type": "code",
   "execution_count": null,
   "metadata": {},
   "outputs": [],
   "source": [
    "# Let's take a look at the covariance computed from the set of retrieved a_1 and a_2\n",
    "print(np.cov(ar.T))"
   ]
  },
  {
   "cell_type": "markdown",
   "metadata": {},
   "source": [
    "____\n",
    "Compare the \"data-derived\" distribution with the one we predicted using the error-covariance before. Due to the large sample size, they come pretty close. In our case, this was a well behaved example with Gaussian errors but this example also gives you an idea how to derive error statistics using monte carlo simulations (which could draw random errors from a non-Gaussian distribution for instance)."
   ]
  }
 ],
 "metadata": {
  "anaconda-cloud": {},
  "kernelspec": {
   "display_name": "Python 2",
   "language": "python",
   "name": "python2"
  },
  "language_info": {
   "codemirror_mode": {
    "name": "ipython",
    "version": 2
   },
   "file_extension": ".py",
   "mimetype": "text/x-python",
   "name": "python",
   "nbconvert_exporter": "python",
   "pygments_lexer": "ipython2",
   "version": "2.7.15"
  }
 },
 "nbformat": 4,
 "nbformat_minor": 1
}
