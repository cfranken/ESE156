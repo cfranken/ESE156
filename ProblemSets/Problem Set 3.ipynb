{
 "cells": [
  {
   "cell_type": "markdown",
   "metadata": {},
   "source": [
    "### ESE 156 Problem Set 3 (2018)\n",
    "**Due:** November 13, Beginning of class (>1.5 weeks time)\n",
    "\n",
    "**Instruction** Get the problem set notebook from GitHub and rename by adding your last name to it at the end. Answer directly in the notebook, either with text and/or code. When finished, send notebook to TA and me directly (as .ipynb and .html export, go to File->Download As). In this particular case, you can also just write a python script\n"
   ]
  },
  {
   "cell_type": "markdown",
   "metadata": {},
   "source": [
    "**SIF from space ** (15 Points)\n",
    "\n",
    "A novel satellite launched by Caltech students was able to acquire high resolution spectra of reflected radiance in the 743--757nm spectral range. Data was taken over one summer, providing global coverage, getting a spectrum for each latitude/longitude bin (i.e. 360x180 spectra). \n",
    "Your overall task is to fit Solar Induced Chlorophyll Fluorescence (across the globe) and map its spatial pattern.\n",
    "\n",
    "You can download the data from this superb satellite here:\n",
    "ftp://fluo.gps.caltech.edu/XYZT_ESE156/Data/PS_SIF_map.h5\n",
    "\n",
    "What you find in there are:\n",
    "- spectra: 3D data structure (lon/lat/wavelength); reflected radiance measured as a function of latitude, longitude and wavelength (1 degree bins used here); unit is $mW/m^2/sr/\\mu m$\n",
    "- wlGrid: Initial wavelength grid of the instruments (same dimension as in \"spectra\"). Beware, while this is correct in most cases, there are instance when there is a slight wavelength shift from the initial grid. You will probably notice it when you did a \"bad job\".\n",
    "- solarSpectrum_highRes: Solar transmission spectrum at high spectral resolution\n",
    "- wl_solarSpectrum: Wavelength grid associated with the high res solar spectrum\n",
    "- SIF_shape: The overall spectral shape of SIF across the wlGrid. It is normalized to 1 at 750nm. \n",
    "\n",
    "The instrument has a FWHM of 0.1nm with a Gaussian lineshape and a shot-noise performance, which follows a square root behavior: noise = sqrt(radiance)/80 (i.e. the noise will vary by location and wavelength!). For this exercise, you can ignore atmospheric absorptions and scattering, your main task is to fit SIF from the data itself.\n",
    "\n",
    "What to do?\n",
    "- Download the data\n",
    "- Create a solar reference spectrum with the right spectral resolution and spectral sampling (that matches your data)\n",
    "- implement a noise model to generate $S_\\epsilon$ for each fit\n",
    "- Implement a linear fit model assuming no shift and fit all data (no prior constraints necessary); map SIF, 1-sigma error in SIF and $\\chi^2$ across the globe (you can go fancy with projections but a simple imshow of the matrix will do as well).\n",
    "- Check what went wrong in \"some\" areas\n",
    "- Develop a non-linear fit that allows the fit of a spectral shift as well (just a shift!).\n",
    "- Check SIF map, $\\chi^2$ and SIF error. \n",
    "- p\n",
    "\n",
    "\n",
    "\n"
   ]
  },
  {
   "cell_type": "code",
   "execution_count": null,
   "metadata": {
    "collapsed": true
   },
   "outputs": [],
   "source": []
  }
 ],
 "metadata": {
  "anaconda-cloud": {},
  "kernelspec": {
   "display_name": "Python 3",
   "language": "python",
   "name": "python3"
  },
  "language_info": {
   "codemirror_mode": {
    "name": "ipython",
    "version": 3
   },
   "file_extension": ".py",
   "mimetype": "text/x-python",
   "name": "python",
   "nbconvert_exporter": "python",
   "pygments_lexer": "ipython3",
   "version": "3.6.5"
  },
  "latex_envs": {
   "LaTeX_envs_menu_present": true,
   "autoclose": false,
   "autocomplete": true,
   "bibliofile": "biblio.bib",
   "cite_by": "apalike",
   "current_citInitial": 1,
   "eqLabelWithNumbers": true,
   "eqNumInitial": 1,
   "hotkeys": {
    "equation": "Ctrl-E",
    "itemize": "Ctrl-I"
   },
   "labels_anchors": false,
   "latex_user_defs": false,
   "report_style_numbering": false,
   "user_envs_cfg": false
  }
 },
 "nbformat": 4,
 "nbformat_minor": 2
}
