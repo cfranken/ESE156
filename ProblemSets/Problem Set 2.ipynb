{
 "cells": [
  {
   "cell_type": "markdown",
   "metadata": {},
   "source": [
    "## ESE 156 Problem Set 2 (2018)\n",
    "**Due:** October 30, Beginning of class (1.5 weeks time)\n",
    "\n",
    "**Instruction** Get the problem set notebook from GitHub and rename by adding your last name to it at the end. Answer directly in the notebook, either with text and/or code. When finished, send notebook to TA and me directly (as .ipynb and .html export, go to File->Download As).\n"
   ]
  },
  {
   "cell_type": "markdown",
   "metadata": {},
   "source": [
    "\\begin{problem} **Definitions** (4 Points)\n",
    "\n",
    "Define the following terms in your own words (2-3 sentences):\n",
    "- Gain matrix\n",
    "- Averaging kernel\n",
    "- Posterior Covariance Matrix\n",
    "- Prior Covariance Matrix\n",
    "\\end{problem}"
   ]
  },
  {
   "cell_type": "markdown",
   "metadata": {},
   "source": [
    "\\begin{problem} **The non-linear problem** (15 points)\n",
    "\n",
    "Use the 5th notebook example to learn about non-linear inversions. Use the notebook as first start but deviate more from the initial state for the inversion (see below for suggested changes in CO2, CH4, H2O and the polynomial but also use 85 degree SZA for this case).\n",
    "- Start with just a linear step (as in the notebook) but test whether this step was too large to be within the \"linear\" range. How do you test for it? Show the formal way of testing it and a plot or metric to support it.\n",
    "- Implement a non-linear inversion using iterations. How many iterations do you need (and when/why do you stop)?\n",
    "- Compare true and retrieved total column estimates for each trace gas at each iteration step. Also track reduced $\\chi^2$\n",
    "- Test the linear error estimates as in the original notebook (does the predicted $\\hat{x}$ using the $G\\epsilon$ and the averaging kernel $A(x-x_a)$ still hold?\n",
    "- Test the same problem with a different sensor resolution, using 0.4cm$^-1$ (keep the spectral sampling!). How does the Averaging kernel change (if yes, why do you think it changed)? Does the degree of non-linearity change? \n",
    "\n",
    "\\end{problem}\n",
    "\n"
   ]
  },
  {
   "cell_type": "raw",
   "metadata": {},
   "source": [
    "Setup for Problem 2: Change perturbed run using these values for the perturbed state vector.\n",
    "Use SZA of 85 degrees\n",
    "x2 = x.copy()\n",
    "dx = 150e-6\n",
    "# Perturb by 50ppm\n",
    "x2[index:72] = x[index:72]+dx\n",
    "x2[-1]=5 \n",
    "x2[-3]=-3.0e-7\n",
    "x2[-2]=+0.01\n",
    "x2[72+30:2*72] = 2100.e-9 # CH4 in ppb\n",
    "x2[2*72:3*72]= 2*vmr_h2o"
   ]
  },
  {
   "cell_type": "markdown",
   "metadata": {},
   "source": [
    "\\begin{problem}**Bonus -- S$_a$ from data** (5 points)\n",
    "- Try to implement the prior covariance matrix from the model data and run the linear retrieval (I.e. Notebook 5 example). (The model has a lower resolution, I would suggest interpolating based on pressure levels).\n",
    "- Multiply S$_a$ with 2^2 and 0.5^2; how does the averaging kernel, prior XCO2 uncertainty and degrees of freedom for CO2 and averaging kernels change? Compare the columns of the averaging kernels for these two cases (graphically, use a few layers) and explain why they differ.\n",
    "\n",
    "\n",
    "\\end{problem}"
   ]
  },
  {
   "cell_type": "code",
   "execution_count": null,
   "metadata": {
    "collapsed": true
   },
   "outputs": [],
   "source": []
  }
 ],
 "metadata": {
  "anaconda-cloud": {},
  "kernelspec": {
   "display_name": "Python 3",
   "language": "python",
   "name": "python3"
  },
  "language_info": {
   "codemirror_mode": {
    "name": "ipython",
    "version": 3
   },
   "file_extension": ".py",
   "mimetype": "text/x-python",
   "name": "python",
   "nbconvert_exporter": "python",
   "pygments_lexer": "ipython3",
   "version": "3.6.5"
  },
  "latex_envs": {
   "LaTeX_envs_menu_present": true,
   "autoclose": false,
   "autocomplete": true,
   "bibliofile": "biblio.bib",
   "cite_by": "apalike",
   "current_citInitial": 1,
   "eqLabelWithNumbers": true,
   "eqNumInitial": 1,
   "hotkeys": {
    "equation": "Ctrl-E",
    "itemize": "Ctrl-I"
   },
   "labels_anchors": false,
   "latex_user_defs": false,
   "report_style_numbering": false,
   "user_envs_cfg": false
  }
 },
 "nbformat": 4,
 "nbformat_minor": 2
}
