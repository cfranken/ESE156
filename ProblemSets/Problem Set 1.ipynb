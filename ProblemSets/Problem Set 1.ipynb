{
 "cells": [
  {
   "cell_type": "markdown",
   "metadata": {},
   "source": [
    "## ESE 156 Problem Set 1 (2018)\n",
    "**Due:** October 16, Beginning of class (1 week time)\n",
    "\n",
    "**Instruction** Get the problem set notebook from GitHub and rename by adding your last name to it at the end. Answer directly in the notebook, either with text and/or code. When finished, send notebook to TA and me directly (as .ipynb and .html export, go to File->Download As).\n"
   ]
  },
  {
   "cell_type": "markdown",
   "metadata": {},
   "source": [
    "\\begin{problem} **Definitions** (2 Points)\n",
    "\n",
    "Define the following terms in your own words (1-2 sentences):\n",
    "- Measurement Error Covariance Matrix $S_\\epsilon$\n",
    "- Normal Equation\n",
    "- Weighted Least Squares\n",
    "\\end{problem}"
   ]
  },
  {
   "cell_type": "markdown",
   "metadata": {},
   "source": [
    "\\begin{problem} **Outliers** (5 points)\n",
    "\n",
    "Use the 1st notebook example (line fit) and generate random points as in the example but pick a point for which you enhance the noise level by a factor 5. Assume you don't know that one pixels 'misbehaves' and compute the error induced in your line-fit (you can use the ensemble to compute retrieved slope and offset and compare against theoretical error). \n",
    "\n",
    "- How problematic is the outlier and does it depend on which point (on the x-axis) you chose for misbehaving?\n",
    "- Can you \"detect\" that the outlier resulted in a bad fit using the $\\chi^2$ statistics (e.g. providing a likelihood that the reduced $\\chi^2$ follows the expected distribution or not)? \n",
    "- Use an updated $S_\\epsilon$, which includes the proper noise level for the \"outlier\". How well does the line-fit perform now (in terms of $chi^2$ and changes in the posterior error covariance)?\n",
    "\n",
    "\\end{problem}\n",
    "\n",
    "\n"
   ]
  },
  {
   "cell_type": "markdown",
   "metadata": {},
   "source": [
    "\\begin{problem}**Spectral fits** (3 points)\n",
    "\n",
    "Use the 2nd notebook example (Optical Spectroscopy) \n",
    "\n",
    "- Change the code to use weighted least squares.\n",
    "- Compute and plot the 1-$\\sigma$ error in the retrieved trace gases for SNR levels ranging from 10 to 4000 \n",
    "\n",
    "\\end{problem}"
   ]
  },
  {
   "cell_type": "code",
   "execution_count": null,
   "metadata": {},
   "outputs": [],
   "source": []
  }
 ],
 "metadata": {
  "kernelspec": {
   "display_name": "Python 3",
   "language": "python",
   "name": "python3"
  },
  "language_info": {
   "codemirror_mode": {
    "name": "ipython",
    "version": 3
   },
   "file_extension": ".py",
   "mimetype": "text/x-python",
   "name": "python",
   "nbconvert_exporter": "python",
   "pygments_lexer": "ipython3",
   "version": "3.6.5"
  },
  "latex_envs": {
   "LaTeX_envs_menu_present": true,
   "autoclose": false,
   "autocomplete": true,
   "bibliofile": "biblio.bib",
   "cite_by": "apalike",
   "current_citInitial": 1,
   "eqLabelWithNumbers": true,
   "eqNumInitial": 1,
   "hotkeys": {
    "equation": "Ctrl-E",
    "itemize": "Ctrl-I"
   },
   "labels_anchors": false,
   "latex_user_defs": false,
   "report_style_numbering": false,
   "user_envs_cfg": false
  }
 },
 "nbformat": 4,
 "nbformat_minor": 2
}
